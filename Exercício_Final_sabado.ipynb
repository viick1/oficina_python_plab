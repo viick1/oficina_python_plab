{
  "nbformat": 4,
  "nbformat_minor": 0,
  "metadata": {
    "colab": {
      "provenance": [],
      "include_colab_link": true
    },
    "kernelspec": {
      "name": "python3",
      "display_name": "Python 3"
    },
    "language_info": {
      "name": "python"
    }
  },
  "cells": [
    {
      "cell_type": "markdown",
      "metadata": {
        "id": "view-in-github",
        "colab_type": "text"
      },
      "source": [
        "<a href=\"https://colab.research.google.com/github/viick1/oficina_python_plab/blob/main/Exerc%C3%ADcio_Final_sabado.ipynb\" target=\"_parent\"><img src=\"https://colab.research.google.com/assets/colab-badge.svg\" alt=\"Open In Colab\"/></a>"
      ]
    },
    {
      "cell_type": "markdown",
      "source": [
        "# Contagem de Medalhas\n",
        "\n",
        "Crie um programa que receba o número de medalhas de ouro, prata e bronze de um país nas Olimpíadas e calcule o total de medalhas.\n",
        "Quando escrever 'sair', o programa deverá encerrar e mostrar na tela o ranking de medalhas no formato:"
      ],
      "metadata": {
        "id": "RQN1e5FZY6SZ"
      }
    },
    {
      "cell_type": "code",
      "source": [
        "#Ranking de medalhas:\n",
        "#Brasil: 7 medalhas\n",
        "#França: 6 medalhas\n",
        "#Argentina: 3 medalhas"
      ],
      "metadata": {
        "id": "gCq_KLHzZSzb"
      },
      "execution_count": null,
      "outputs": []
    },
    {
      "cell_type": "code",
      "execution_count": 9,
      "metadata": {
        "id": "AJJhjxiPTd5s",
        "outputId": "08e0ed5c-9bec-43c0-f0d6-49e90b0d0dec",
        "colab": {
          "base_uri": "https://localhost:8080/",
          "height": 388
        }
      },
      "outputs": [
        {
          "output_type": "stream",
          "name": "stdout",
          "text": [
            "Digite o nome do país (ou sair para encerrar): Brasil\n",
            "Digite o número de medalhas de ouro:5\n",
            "Digite o número d medalhas de prata5\n",
            "Digite o número de medalhas de bronze5\n",
            "Digite o nome do país (ou sair para encerrar): Brasiç\n",
            "Digite o número de medalhas de ouro:4\n",
            "Digite o número d medalhas de prata4\n",
            "Digite o número de medalhas de bronze4\n",
            "Digite o nome do país (ou sair para encerrar): sair\n",
            "Ranking de Medalhas:\n"
          ]
        },
        {
          "output_type": "error",
          "ename": "ValueError",
          "evalue": "too many values to unpack (expected 2)",
          "traceback": [
            "\u001b[0;31m---------------------------------------------------------------------------\u001b[0m",
            "\u001b[0;31mValueError\u001b[0m                                Traceback (most recent call last)",
            "\u001b[0;32m<ipython-input-9-0436aa6dc834>\u001b[0m in \u001b[0;36m<cell line: 19>\u001b[0;34m()\u001b[0m\n\u001b[1;32m     17\u001b[0m \u001b[0;31m# Exibe o ranking no formato desejado\u001b[0m\u001b[0;34m\u001b[0m\u001b[0;34m\u001b[0m\u001b[0m\n\u001b[1;32m     18\u001b[0m \u001b[0mprint\u001b[0m\u001b[0;34m(\u001b[0m\u001b[0;34m\"Ranking de Medalhas:\"\u001b[0m\u001b[0;34m)\u001b[0m\u001b[0;34m\u001b[0m\u001b[0;34m\u001b[0m\u001b[0m\n\u001b[0;32m---> 19\u001b[0;31m \u001b[0;32mfor\u001b[0m \u001b[0mpaís\u001b[0m\u001b[0;34m,\u001b[0m \u001b[0mtotal_medalhas\u001b[0m \u001b[0;32min\u001b[0m \u001b[0mcontador\u001b[0m\u001b[0;34m:\u001b[0m\u001b[0;34m\u001b[0m\u001b[0;34m\u001b[0m\u001b[0m\n\u001b[0m\u001b[1;32m     20\u001b[0m     \u001b[0mprint\u001b[0m\u001b[0;34m(\u001b[0m\u001b[0;34mf\"{país}: {total_medalhas} medalhas\"\u001b[0m\u001b[0;34m)\u001b[0m\u001b[0;34m\u001b[0m\u001b[0;34m\u001b[0m\u001b[0m\n",
            "\u001b[0;31mValueError\u001b[0m: too many values to unpack (expected 2)"
          ]
        }
      ],
      "source": [
        "\n",
        "pais = ''\n",
        "contador = []\n",
        "while True:\n",
        "  pais = input('Digite o nome do país (ou sair para encerrar): ')\n",
        "  if pais.lower() == 'sair' :\n",
        "    break\n",
        "  ouro = int(input('Digite o número de medalhas de ouro:'))\n",
        "  prata = int(input('Digite o número d medalhas de prata'))\n",
        "  bronze = int(input('Digite o número de medalhas de bronze'))\n",
        "\n",
        "  total_medalhas = ouro+prata+bronze\n",
        "  contador.append((pais, ouro, prata,bronze, total_medalhas))\n",
        "\n",
        "contador.sort(key=lambda x: x[1], reverse=True)\n",
        "\n",
        "\n",
        "print(\"Ranking de Medalhas:\")\n",
        "for país, total_medalhas in contador:\n",
        "    print(f\"{paí4]s}: {total_medalhas} medalhas\")"
      ]
    },
    {
      "cell_type": "code",
      "source": [],
      "metadata": {
        "id": "evBRUBUzDJI3"
      },
      "execution_count": null,
      "outputs": []
    }
  ]
}