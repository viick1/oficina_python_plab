{
  "nbformat": 4,
  "nbformat_minor": 0,
  "metadata": {
    "colab": {
      "provenance": [],
      "include_colab_link": true
    },
    "kernelspec": {
      "name": "python3",
      "display_name": "Python 3"
    },
    "language_info": {
      "name": "python"
    }
  },
  "cells": [
    {
      "cell_type": "markdown",
      "metadata": {
        "id": "view-in-github",
        "colab_type": "text"
      },
      "source": [
        "<a href=\"https://colab.research.google.com/github/viick1/oficina_python_plab/blob/main/Exerc%C3%ADcio_Final_sabado.ipynb\" target=\"_parent\"><img src=\"https://colab.research.google.com/assets/colab-badge.svg\" alt=\"Open In Colab\"/></a>"
      ]
    },
    {
      "cell_type": "markdown",
      "source": [
        "# Contagem de Medalhas\n",
        "\n",
        "Crie um programa que receba o número de medalhas de ouro, prata e bronze de um país nas Olimpíadas e calcule o total de medalhas.\n",
        "Quando escrever 'sair', o programa deverá encerrar e mostrar na tela o ranking de medalhas no formato:"
      ],
      "metadata": {
        "id": "RQN1e5FZY6SZ"
      }
    },
    {
      "cell_type": "code",
      "source": [
        "#Ranking de medalhas:\n",
        "#Brasil: 7 medalhas\n",
        "#França: 6 medalhas\n",
        "#Argentina: 3 medalhas"
      ],
      "metadata": {
        "id": "gCq_KLHzZSzb"
      },
      "execution_count": null,
      "outputs": []
    },
    {
      "cell_type": "code",
      "execution_count": 11,
      "metadata": {
        "id": "AJJhjxiPTd5s",
        "colab": {
          "base_uri": "https://localhost:8080/"
        },
        "outputId": "43c32418-a63b-4bfa-f6f2-10c71e566739"
      },
      "outputs": [
        {
          "output_type": "stream",
          "name": "stdout",
          "text": [
            "Digite o nome do país (ou sair para encerrar): Brasil\n",
            "Digite o número de medalhas de ouro:5\n",
            "Digite o número d medalhas de prata5\n",
            "Digite o número de medalhas de bronze5\n",
            "Digite o nome do país (ou sair para encerrar): Italia\n",
            "Digite o número de medalhas de ouro:4\n",
            "Digite o número d medalhas de prata4\n",
            "Digite o número de medalhas de bronze4\n",
            "Digite o nome do país (ou sair para encerrar): EUA\n",
            "Digite o número de medalhas de ouro:6\n",
            "Digite o número d medalhas de prata6\n",
            "Digite o número de medalhas de bronze6\n",
            "Digite o nome do país (ou sair para encerrar): SAIR\n",
            "Ranking de Medalhas:\n",
            "EUA: 18 medalhas\n",
            "Brasil: 15 medalhas\n",
            "Italia: 12 medalhas\n"
          ]
        }
      ],
      "source": [
        "\n",
        "pais = ''\n",
        "contador = []\n",
        "while True:\n",
        "  pais = input('Digite o nome do país (ou sair para encerrar): ')\n",
        "  if pais.lower() == 'sair' :\n",
        "    break\n",
        "  ouro = int(input('Digite o número de medalhas de ouro:'))\n",
        "  prata = int(input('Digite o número d medalhas de prata'))\n",
        "  bronze = int(input('Digite o número de medalhas de bronze'))\n",
        "\n",
        "  total_medalhas = ouro+prata+bronze\n",
        "  contador.append((pais,5 total_medalhas))\n",
        "\n",
        "contador.sort(key=lambda x: x[1], reverse=True)\n",
        "\n",
        "\n",
        "print(\"Ranking de Medalhas:\")\n",
        "for pais, total_medalhas in contador:\n",
        "    print(f\"{pais}: {total_medalhas} medalhas\")"
      ]
    },
    {
      "cell_type": "code",
      "source": [],
      "metadata": {
        "id": "evBRUBUzDJI3"
      },
      "execution_count": null,
      "outputs": []
    }
  ]
}